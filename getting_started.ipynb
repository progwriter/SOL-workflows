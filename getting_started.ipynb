{
 "cells": [
  {
   "cell_type": "markdown",
   "metadata": {},
   "source": [
    "### Topology Creation"
   ]
  },
  {
   "cell_type": "code",
   "execution_count": 2,
   "metadata": {
    "collapsed": false
   },
   "outputs": [
    {
     "data": {
      "text/plain": [
       "[0, 1, 2, 3, 4]"
      ]
     },
     "execution_count": 2,
     "metadata": {},
     "output_type": "execute_result"
    }
   ],
   "source": [
    "from sol.topology.generators import chain_topology\n",
    "t = chain_topology(5)\n",
    "list(t.nodes()) # topology nodes\n"
   ]
  },
  {
   "cell_type": "markdown",
   "metadata": {},
   "source": [
    "### Setting network resources"
   ]
  },
  {
   "cell_type": "code",
   "execution_count": 3,
   "metadata": {
    "collapsed": false
   },
   "outputs": [
    {
     "data": {
      "text/plain": [
       "[(0, {'resources': {}, 'services': 'switch'}),\n",
       " (1, {'resources': {}, 'services': 'switch'}),\n",
       " (2, {'resources': {}, 'services': 'switch'}),\n",
       " (3,\n",
       "  {'hasMbox': 'True',\n",
       "   'resources': {'cpu': 3000.0},\n",
       "   'services': 'firewall;switch'}),\n",
       " (4, {'resources': {}, 'services': 'switch'})]"
      ]
     },
     "execution_count": 3,
     "metadata": {},
     "output_type": "execute_result"
    }
   ],
   "source": [
    "t.set_mbox(3)\n",
    "t.add_service_type(3, 'firewall')\n",
    "t.set_resource(3, 'cpu', 3000)\n",
    "list(t.nodes(data=True))"
   ]
  },
  {
   "cell_type": "code",
   "execution_count": 4,
   "metadata": {
    "collapsed": false
   },
   "outputs": [
    {
     "data": {
      "text/plain": [
       "[(0, {'resources': {}, 'services': 'switch'}),\n",
       " (1, {'resources': {}, 'services': 'switch'}),\n",
       " (2, {'resources': {}, 'services': 'switch'}),\n",
       " (3,\n",
       "  {'hasMbox': 'True',\n",
       "   'resources': {'cpu': 3000.0},\n",
       "   'services': 'firewall;switch'}),\n",
       " (4, {'resources': {}, 'services': 'switch'})]"
      ]
     },
     "execution_count": 4,
     "metadata": {},
     "output_type": "execute_result"
    }
   ],
   "source": [
    "from sol import Topology\n",
    "t.write_graph('mytopo.gml')\n",
    "t2 = Topology('mynewtopo')\n",
    "t2.load_graph('mytopo.gml')\n",
    "list(t2.nodes(data=True)) # all the data is preserved"
   ]
  },
  {
   "cell_type": "code",
   "execution_count": 5,
   "metadata": {
    "collapsed": false
   },
   "outputs": [
    {
     "data": {
      "text/plain": [
       "[(0, 1, {'resources': {'bandwidth': 100.0}}),\n",
       " (1, 0, {'resources': {'bandwidth': 100.0}}),\n",
       " (1, 2, {'resources': {'bandwidth': 100.0}}),\n",
       " (2, 1, {'resources': {'bandwidth': 100.0}}),\n",
       " (2, 3, {'resources': {'bandwidth': 100.0}}),\n",
       " (3, 2, {'resources': {'bandwidth': 100.0}}),\n",
       " (3, 4, {'resources': {'bandwidth': 100.0}}),\n",
       " (4, 3, {'resources': {'bandwidth': 100.0}})]"
      ]
     },
     "execution_count": 5,
     "metadata": {},
     "output_type": "execute_result"
    }
   ],
   "source": [
    "for link in t.links():\n",
    "    t.set_resource(link, 'bandwidth', 100)\n",
    "list(t.links(data=True))"
   ]
  },
  {
   "cell_type": "markdown",
   "metadata": {},
   "source": [
    "### Paths (per traffic class)"
   ]
  },
  {
   "cell_type": "code",
   "execution_count": 6,
   "metadata": {
    "collapsed": false
   },
   "outputs": [
    {
     "name": "stdout",
     "output_type": "stream",
     "text": [
      "TrafficClass(tcid=0,name=,src=0,dst=4)\n"
     ]
    }
   ],
   "source": [
    ">>> from sol import make_tc\n",
    "tc1 = make_tc(0, 4, 100)\n",
    "print(tc1)"
   ]
  },
  {
   "cell_type": "code",
   "execution_count": 7,
   "metadata": {
    "collapsed": false
   },
   "outputs": [
    {
     "name": "stdout",
     "output_type": "stream",
     "text": [
      "{TrafficClass(tcid=0,name=,src=0,dst=4): masked_array(data = [Path(nodes=[0 1 2 3 4], flowFraction=1.0)],\n",
      "             mask = False,\n",
      "       fill_value = ?)\n",
      "}\n"
     ]
    }
   ],
   "source": [
    "from sol.path.generate import generate_paths_tc\n",
    "\n",
    "pptc=generate_paths_tc(t, [tc1])\n",
    "print(pptc)"
   ]
  },
  {
   "cell_type": "markdown",
   "metadata": {},
   "source": [
    "### Builing the application and optimization"
   ]
  },
  {
   "cell_type": "code",
   "execution_count": 8,
   "metadata": {
    "collapsed": false
   },
   "outputs": [],
   "source": [
    "from sol import AppBuilder\n",
    "from sol.opt.funcs import CostFuncFactory\n",
    "from sol.utils.const import Objective\n",
    "\n",
    "builder = AppBuilder()\n",
    "# Create a cost function where each flow consumes 1 Mb/s regardless of traffic class\n",
    "cost_func = CostFuncFactory.from_number(1)\n",
    "app = builder.name('maxflowapp')\\\n",
    "    .pptc(pptc)\\\n",
    "    .objective(Objective.MAX_FLOW)\\\n",
    "    .add_resource('bandwidth', cost_func, 'links')\\\n",
    "    .build()"
   ]
  },
  {
   "cell_type": "code",
   "execution_count": 9,
   "metadata": {
    "collapsed": false
   },
   "outputs": [],
   "source": [
    "from sol import from_app, NetworkConfig, NetworkCaps\n",
    "\n",
    "caps = NetworkCaps(t) # Create network caps from the topology\n",
    "caps.add_cap('bandwidth', cap=.5) # We can use 50% of link capacities\n",
    "nconfig = NetworkConfig(networkcaps=caps)\n",
    "opt = from_app(t, app, nconfig) # create the optimization\n",
    "opt.solve() # solve the optimization"
   ]
  },
  {
   "cell_type": "markdown",
   "metadata": {},
   "source": [
    "### Examining solutions"
   ]
  },
  {
   "cell_type": "code",
   "execution_count": 12,
   "metadata": {
    "collapsed": false
   },
   "outputs": [
    {
     "data": {
      "text/plain": [
       "0.5"
      ]
     },
     "execution_count": 12,
     "metadata": {},
     "output_type": "execute_result"
    }
   ],
   "source": [
    "opt.get_solved_objective(app) # we should see 0.5, we can route 50% of the traffic due to link constraints"
   ]
  },
  {
   "cell_type": "code",
   "execution_count": 13,
   "metadata": {
    "collapsed": false
   },
   "outputs": [
    {
     "name": "stdout",
     "output_type": "stream",
     "text": [
      "[Path(nodes=[0 1 2 3 4], flowFraction=0.5)]\n"
     ]
    }
   ],
   "source": [
    "pptc_solution = opt.get_paths()\n",
    "print(pptc_solution.paths(tc1))"
   ]
  }
 ],
 "metadata": {
  "anaconda-cloud": {},
  "kernelspec": {
   "display_name": "Python [conda env:sol3]",
   "language": "python",
   "name": "conda-env-sol3-py"
  },
  "language_info": {
   "codemirror_mode": {
    "name": "ipython",
    "version": 3
   },
   "file_extension": ".py",
   "mimetype": "text/x-python",
   "name": "python",
   "nbconvert_exporter": "python",
   "pygments_lexer": "ipython3",
   "version": "3.5.2"
  }
 },
 "nbformat": 4,
 "nbformat_minor": 1
}
